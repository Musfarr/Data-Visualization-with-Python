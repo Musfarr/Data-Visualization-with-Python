{
 "cells": [
  {
   "cell_type": "code",
   "execution_count": 96,
   "id": "e7d339b4",
   "metadata": {},
   "outputs": [],
   "source": [
    "import pandas as pd \n",
    "import numpy as np \n",
    "import matplotlib as mpl \n",
    "import matplotlib.pyplot as plt\n",
    "import matplotlib.patches as patches \n",
    "\n",
    "# from PIL import  Image #for converting images into 2d arr\n",
    "# !pip install seaborn wordcloud\n",
    "# import wordcloud\n",
    "# import seaborn as sns \n",
    "from pywaffle import Waffle\n"
   ]
  },
  {
   "cell_type": "markdown",
   "id": "d2707b34",
   "metadata": {},
   "source": [
    "# importing data and setting index\n",
    "\n"
   ]
  },
  {
   "cell_type": "code",
   "execution_count": 104,
   "id": "2148433a",
   "metadata": {},
   "outputs": [
    {
     "data": {
      "image/png": "[encoded data removed]",
      "text/plain": [
       "<Waffle size 432x288 with 1 Axes>"
      ]
     },
     "metadata": {
      "needs_background": "light"
     },
     "output_type": "display_data"
    }
   ],
   "source": [
    "dc = pd.read_csv(\"canada.csv\")\n",
    "\n",
    "years = list(map(str , range(1980 , 2014)))\n",
    "dc = dc.set_index(\"Country\")\n",
    "dc[\"Total\"] = dc[years].sum(axis = 1)\n",
    "\n",
    "icp = dc.loc[[\"India\" , \"China\" , \"Pakistan\"]]\n",
    "icp\n",
    "\n",
    "\n",
    "#     # instantiate a new figure object\n",
    "\n",
    "\n",
    "fig = plt.figure(FigureClass = Waffle,\n",
    "                 rows = 20, columns = 30, #pass the number of rows and columns for the waffle \n",
    "                 values = icp['Total'], #pass the data to be used for display\n",
    "                 cmap_name = 'tab20',\n",
    "                 legend = {'labels': [f\"{k} ({v})\" for k, v in zip(icp.index.values,icp.Total)],\n",
    "                            'loc': 'lower left', 'bbox_to_anchor':(0,-0.1),'ncol': 3}#color scheme\n",
    "                 #notice the use of list comprehension for creating labels \n",
    "                 #from index and total of the dataset\n",
    "                )\n"
   ]
  },
  {
   "cell_type": "code",
   "execution_count": null,
   "id": "b99f5515",
   "metadata": {},
   "outputs": [],
   "source": []
  }
 ],
 "metadata": {
  "kernelspec": {
   "display_name": "Python 3 (ipykernel)",
   "language": "python",
   "name": "python3"
  },
  "language_info": {
   "codemirror_mode": {
    "name": "ipython",
    "version": 3
   },
   "file_extension": ".py",
   "mimetype": "text/x-python",
   "name": "python",
   "nbconvert_exporter": "python",
   "pygments_lexer": "ipython3",
   "version": "3.9.7"
  }
 },
 "nbformat": 4,
 "nbformat_minor": 5
}
